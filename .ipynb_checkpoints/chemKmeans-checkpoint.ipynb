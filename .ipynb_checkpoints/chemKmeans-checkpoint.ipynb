{
 "cells": [
  {
   "cell_type": "code",
   "execution_count": 61,
   "metadata": {},
   "outputs": [
    {
     "name": "stdout",
     "output_type": "stream",
     "text": [
      "[0 0 0 0 0 0 0 0 0 0 0 0 0 0 0 0 0 0 0 0 0 0 0 0 0 0 0 0 0 0 0 0 0 0 0 0 0\n",
      " 0 0 0 0 2 0 3 0 0 0 0 0 0 0 0 0 0 0 0 0 0 0 0 0 0 0 0 0 0 0 0 0 0 0 0 0 3\n",
      " 0 0 0 0 0 0 0 0 0 0 0 0 0 0 0 0 0 0 0 0 0 0 0 0 0 3 0 0 0 0 0 0 3 0 0 0 0\n",
      " 0 0 0 0 0 0 0 0 0 0 0 0 0 0 0 0 0 0 0 0 0 0 0 0 1 0 0 0 0 0 0 0 0 0 0 0 0\n",
      " 0 0 0 0 0 0 0 0 0 0 0 0 0 0 3 0 0 0 0 0 0 0 0 0 0 0 0 0 0 0 0 0 0 0 0 0 0\n",
      " 0 0 0 0 0 0 0 0 0 0 3 0 0 0 0 0 0 0 0 0 0 0 0 0]\n",
      "-427650084.55441976\n",
      "[0 0 0 0 0 0 0 0 0 0 0 0 0 0 0 0 0 0 0 0 0 3 0 0]\n",
      "[3 0 2 0 0 0 0 0 3 0 0 0 0 2 0 2 2 0 0 0 0 2 0 0]\n"
     ]
    }
   ],
   "source": [
    "import matplotlib.pyplot as plt\n",
    "import numpy as np\n",
    "from sklearn import model_selection\n",
    "import pandas as pd\n",
    "from sklearn.cluster import KMeans\n",
    "from sklearn.externals import joblib\n",
    "\n",
    "datas = pd.read_csv(\"E:/datas/finalRst.csv\",encoding = 'gbk')\n",
    "#特征的选取会影响准确率\n",
    "X = datas.iloc[:,[4,5,6,7]]\n",
    "X = np.array(X)\n",
    "Y = datas.iloc[:,[9]]\n",
    "Y = np.array(Y).reshape(-1)\n",
    "X_train,X_test,y_train,y_test=model_selection.train_test_split(X,Y,test_size=0.1,random_state=1)\n",
    "#建立模型\n",
    "clf = KMeans(n_clusters=4)\n",
    "clf.fit(X_train)\n",
    "\n",
    "#4个中心\n",
    "#print(clf.cluster_centers_)\n",
    "\n",
    "#每个样本所属的簇\n",
    "print(clf.labels_)\n",
    "\n",
    "#用来评估簇的个数是否合适，距离越小说明簇分的越好\n",
    "#print(clf.inertia_)\n",
    "\n",
    "#保存模型\n",
    "joblib.dump(clf , 'c:/km.pkl')\n",
    "\n",
    "#载入保存的模型\n",
    "clf = joblib.load('c:/km.pkl')\n",
    "\n",
    "\"\"\"#用来评估簇的个数是否合适，距离越小说明簇分的越好，选取临界点的簇个数\n",
    "for i in range(5,30,1):\n",
    "    clf = KMeans(n_clusters=i)\n",
    "    s = clf.fit(X_train)\n",
    "    print(i , clf.inertia_)\"\"\"\n",
    "print(clf.score(X_test,y_test))\n",
    "print(clf.predict(X_test))\n",
    "print(y_test)\n"
   ]
  }
 ],
 "metadata": {
  "kernelspec": {
   "display_name": "Python 3",
   "language": "python",
   "name": "python3"
  },
  "language_info": {
   "codemirror_mode": {
    "name": "ipython",
    "version": 3
   },
   "file_extension": ".py",
   "mimetype": "text/x-python",
   "name": "python",
   "nbconvert_exporter": "python",
   "pygments_lexer": "ipython3",
   "version": "3.7.3"
  }
 },
 "nbformat": 4,
 "nbformat_minor": 2
}
