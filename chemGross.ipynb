{
 "cells": [
  {
   "cell_type": "code",
   "execution_count": 49,
   "metadata": {},
   "outputs": [
    {
     "name": "stdout",
     "output_type": "stream",
     "text": [
      "0.9166666666666666\n",
      "['cluster' 'cluster' 'cluster' 'cluster' 'cluster' 'cluster' 'cluster'\n",
      " 'cluster' 'poly-disperse' 'cluster' 'cluster' 'cluster' 'cluster'\n",
      " 'partical' 'cluster' 'partical' 'partical' 'cluster' 'cluster' 'cluster'\n",
      " 'cluster' 'partical' 'cluster' 'cluster']\n",
      "['poly-disperse' 'cluster' 'partical' 'cluster' 'cluster' 'cluster'\n",
      " 'cluster' 'cluster' 'poly-disperse' 'cluster' 'cluster' 'cluster'\n",
      " 'cluster' 'partical' 'cluster' 'partical' 'partical' 'cluster' 'cluster'\n",
      " 'cluster' 'cluster' 'partical' 'cluster' 'cluster']\n"
     ]
    }
   ],
   "source": [
    "import matplotlib.pyplot as plt\n",
    "import numpy as np\n",
    "# 导入KNN 分类器\n",
    "from sklearn.neighbors import KNeighborsClassifier\n",
    "# 导入数据集拆分工具\n",
    "from sklearn import model_selection\n",
    "import pandas as pd\n",
    "from sklearn import tree\n",
    "from sklearn.naive_bayes import GaussianNB\n",
    "from sklearn import svm\n",
    "from sklearn.cluster import KMeans\n",
    "from sklearn.linear_model import LogisticRegression\n",
    "from sklearn import preprocessing\n",
    "from sklearn.preprocessing import StandardScaler\n",
    "from sklearn.pipeline import Pipeline\n",
    "\n",
    "datas = pd.read_csv(\"E:/datas/output2.28.csv\")\n",
    "#特征的选取会影响准确率\n",
    "feature = [4,5,6,7]\n",
    "X = datas.iloc[:,feature]\n",
    "X = np.array(X)\n",
    "Y = datas.iloc[:,[9]]\n",
    "Y = np.array(Y).reshape(-1)\n",
    "X_train,X_test,y_train,y_test=model_selection.train_test_split(X,Y,test_size=0.1,random_state=1)\n",
    "\n",
    "#建立模型\n",
    "#clf=GaussianNB() #4567\n",
    "#clf = KNeighborsClassifier() #3567\n",
    "#clf=svm.SVC(kernel='rbf',gamma=0.01,decision_function_shape='ovo',C=0.8) #3567\n",
    "#clf = Pipeline([('sc', StandardScaler()), ('clf', LogisticRegression())]) #4567\n",
    "clf = tree.DecisionTreeClassifier(criterion ='entropy')\n",
    "\n",
    "#使用训练集对模型进行训练\n",
    "clf.fit(X_train,y_train)\n",
    "\n",
    "#使用测试集数据检验模型准确率\n",
    "Accuracy = clf.score(X_test,y_test)\n",
    "print(Accuracy)\n",
    "\n",
    "#绘图？软件？自己写算法？拟合数据？集成学习？!!!!!!!!!!!\n",
    "\"\"\"from sklearn.tree import export_graphviz\n",
    "export_graphviz(clf, out_file='tree.dot', \n",
    "        feature_names=['A', 'B', 'C', 'D'])\n",
    "# 然后进入目录下执行dot -Tpng tree.dot -o tree.png生成图片\"\"\"\n",
    "#对比预测分类and真实分类\n",
    "#print(X_test)\n",
    "print(clf.predict(X_test))\n",
    "print(y_test)\n"
   ]
  }
 ],
 "metadata": {
  "kernelspec": {
   "display_name": "Python 3",
   "language": "python",
   "name": "python3"
  },
  "language_info": {
   "codemirror_mode": {
    "name": "ipython",
    "version": 3
   },
   "file_extension": ".py",
   "mimetype": "text/x-python",
   "name": "python",
   "nbconvert_exporter": "python",
   "pygments_lexer": "ipython3",
   "version": "3.7.3"
  }
 },
 "nbformat": 4,
 "nbformat_minor": 2
}
